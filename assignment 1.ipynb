{
 "cells": [
  {
   "cell_type": "markdown",
   "id": "33224ef0",
   "metadata": {},
   "source": [
    "# Delete the elements in an linked list whose sum is equal to zero"
   ]
  },
  {
   "cell_type": "code",
   "execution_count": 2,
   "id": "be9046ee",
   "metadata": {},
   "outputs": [
    {
     "name": "stdout",
     "output_type": "stream",
     "text": [
      "[4]\n"
     ]
    }
   ],
   "source": [
    "class Node():\n",
    "    def __init__(self, data):\n",
    "        self.data = data\n",
    "        self.next = None\n",
    "        \n",
    "class Linkedlist():\n",
    "    def __init__(self):\n",
    "        self.head = None\n",
    "        \n",
    "    def append(self, data):\n",
    "        new_node = Node(data)\n",
    "        h = self.head\n",
    "        if self.head is None:\n",
    "            self.head = new_node\n",
    "            return\n",
    "        else:\n",
    "            while h.next != None:\n",
    "                h = h.next\n",
    "                h.next = new_node\n",
    "\n",
    "    def remove_zero(self, head):\n",
    "        stack = []\n",
    "        curr = head\n",
    "        list = []\n",
    "        while(curr):\n",
    "            if curr.data >= 0:\n",
    "                stack.append(curr)\n",
    "            else:\n",
    "                temp = curr\n",
    "                sum = temp.data\n",
    "                flag = False\n",
    "                while (len(stack) != 0):\n",
    "                    temp2 = stack.pop()\n",
    "                    sum += temp2.data\n",
    "                    if sum == 0:\n",
    "                        flag = True\n",
    "                        list = []\n",
    "                        break\n",
    "                    elif sum > 0:\n",
    "                        list.append(temp2)\n",
    "\n",
    "                if not flag:\n",
    "                    if len(list) > 0:\n",
    "                        for i in range(len(list)):\n",
    "                            stack.append(list.pop())\n",
    "            curr = curr.next\n",
    "            return [i.data for i in stack]\n",
    "        \n",
    "if __name__ == \"__main__\":\n",
    "    l = Linkedlist()\n",
    "\n",
    "l.append(4)\n",
    "l.append(6)\n",
    "l.append(-10)\n",
    "l.append(8)\n",
    "l.append(9)\n",
    "l.append(10)\n",
    "l.append(-19)\n",
    "l.append(10)\n",
    "l.append(-18)\n",
    "l.append(20)\n",
    "l.append(25)\n",
    "print(l.remove_zero(l.head))"
   ]
  },
  {
   "cell_type": "markdown",
   "id": "18fa3ede",
   "metadata": {},
   "source": [
    "# Reverse  Linked List in given size "
   ]
  },
  {
   "cell_type": "code",
   "execution_count": 1,
   "id": "3b30ddf0",
   "metadata": {},
   "outputs": [
    {
     "name": "stdout",
     "output_type": "stream",
     "text": [
      "1 2 3 4 5 6 7 8 \n",
      "Reverse Linked List\n",
      "3 2 1 6 5 4 8 7 "
     ]
    }
   ],
   "source": [
    "class Node:\n",
    "    def __init__(self, data):\n",
    "        self.data = data\n",
    "        self.next = None\n",
    "\n",
    "class linkedList:\n",
    "    def __init__(self):\n",
    "        self.head = None\n",
    "\n",
    "    def Reverse(self, head, n):\n",
    "        if head == None:\n",
    "            return None\n",
    "        current = head\n",
    "        next = None\n",
    "        prev = None\n",
    "        count = 0\n",
    "\n",
    "        while(current is not None and count < n):\n",
    "            next = current.next\n",
    "            current.next = prev\n",
    "            prev = current\n",
    "            current = next\n",
    "            count += 1\n",
    "\n",
    "        if next is not None:\n",
    "            head.next = self.Reverse(next, n)\n",
    "        return prev\n",
    "    \n",
    "    def push(self, new_data):\n",
    "        new_node = Node(new_data)\n",
    "        new_node.next = self.head\n",
    "        self.head = new_node\n",
    "\n",
    "    def printList(self):\n",
    "        temp = self.head\n",
    "        while(temp):\n",
    "            print(temp.data, end=\" \")\n",
    "            temp = temp.next\n",
    "\n",
    "\n",
    "llist = linkedList()\n",
    "llist.push(8)\n",
    "llist.push(7)\n",
    "llist.push(6)\n",
    "llist.push(5)\n",
    "llist.push(4)\n",
    "llist.push(3)\n",
    "llist.push(2)\n",
    "llist.push(1)\n",
    "\n",
    "llist.printList()\n",
    "llist.head = llist.Reverse(llist.head, 3)\n",
    "\n",
    "print(\"\\nReverse Linked List\")\n",
    "llist.printList()"
   ]
  },
  {
   "cell_type": "markdown",
   "id": "4fceb082",
   "metadata": {},
   "source": [
    "# Merge a linked list into another linked list at alternate positions."
   ]
  },
  {
   "cell_type": "code",
   "execution_count": 3,
   "id": "2db02212",
   "metadata": {},
   "outputs": [
    {
     "name": "stdout",
     "output_type": "stream",
     "text": [
      "First Linked List:\n",
      "0\n",
      "1\n",
      "2\n",
      "3\n",
      "Second Linked List:\n",
      "4\n",
      "5\n",
      "6\n",
      "7\n",
      "8\n",
      "Modified first linked list:\n",
      "0\n",
      "5\n",
      "2\n",
      "7\n",
      "Modified second linked list:\n",
      "8\n"
     ]
    }
   ],
   "source": [
    "class Node(object):\n",
    "    def __init__(self, data:int):\n",
    "        self.data = data\n",
    "        self.next = None\n",
    "\n",
    "\n",
    "class LinkedLIst(object):\n",
    "    def __init__(self):\n",
    "        self.head = None\n",
    "\n",
    "    def push(self, new_data:int):\n",
    "        new_node = Node(new_data)\n",
    "        new_node.next = self.head\n",
    "        self.head = new_node\n",
    "\n",
    "    def printList(self):\n",
    "        temp = self.head\n",
    "        while temp != None:\n",
    "            print(temp.data)\n",
    "            temp = temp.next\n",
    "\n",
    "    def merge(self, p, q):\n",
    "        p_curr = p.head\n",
    "        q_curr = q.head\n",
    "\n",
    "        while p_curr != None and q_curr != None:\n",
    "            p_next = p_curr.next\n",
    "            q_next = q_curr.next\n",
    "\n",
    "            q_curr.next = p_next\n",
    "            p_curr.next = q_next\n",
    "\n",
    "            p_curr = p_next\n",
    "            q_curr = q_next\n",
    "            q.head = q_curr\n",
    "\n",
    "llist1 = LinkedLIst()\n",
    "llist2 = LinkedLIst()\n",
    "\n",
    "\n",
    "llist1.push(3)\n",
    "llist1.push(2)\n",
    "llist1.push(1)\n",
    "llist1.push(0)\n",
    "\n",
    "\n",
    "for i in range(8, 3, -1):\n",
    "    llist2.push(i)\n",
    "  \n",
    "print(\"First Linked List:\")\n",
    "llist1.printList()\n",
    "  \n",
    "print(\"Second Linked List:\")\n",
    "llist2.printList()\n",
    "\n",
    "llist1.merge(p=llist1, q=llist2)\n",
    "\n",
    "print(\"Modified first linked list:\")\n",
    "llist1.printList()\n",
    "  \n",
    "print(\"Modified second linked list:\")\n",
    "llist2.printList()"
   ]
  },
  {
   "cell_type": "markdown",
   "id": "8127305b",
   "metadata": {},
   "source": [
    "# In an array, Count Pairs with given sum"
   ]
  },
  {
   "cell_type": "code",
   "execution_count": 4,
   "id": "b1d20698",
   "metadata": {},
   "outputs": [
    {
     "name": "stdout",
     "output_type": "stream",
     "text": [
      "count of pairs 3\n"
     ]
    }
   ],
   "source": [
    "def getpaircount(arr, n, sum):\n",
    "    count = 0\n",
    "    for i in range(0, n):\n",
    "        for j in range(i + 1, n):\n",
    "            if arr[i] + arr[j] == sum:\n",
    "                count += 1\n",
    "    return count\n",
    "\n",
    "arr = [1, 5, 7, -1, 5]\n",
    "n = len(arr)\n",
    "sum = 6\n",
    "print(\"count of pairs\", getpaircount(arr, n, sum))"
   ]
  },
  {
   "cell_type": "markdown",
   "id": "d7ef1967",
   "metadata": {},
   "source": [
    "# Find duplicates in an array"
   ]
  },
  {
   "cell_type": "code",
   "execution_count": 5,
   "id": "0bd06b42",
   "metadata": {},
   "outputs": [
    {
     "name": "stdout",
     "output_type": "stream",
     "text": [
      "Array=  [-1, 8, 2, 8, -1, 5, 2, -3, 9, 5]\n",
      "Duplicate element in array : -1 -1 2 2 5 5 8 8 "
     ]
    }
   ],
   "source": [
    "def find(array):\n",
    "    duplicate_array = []\n",
    "\n",
    "    for i in array:\n",
    "        if array.count(i) > 1 and 1 not in duplicate_array:\n",
    "            duplicate_array.append(i)\n",
    "\n",
    "    print(\"Duplicate element in array : \", end=\"\")\n",
    "    for i in sorted(duplicate_array):\n",
    "        print(i, end=\" \")\n",
    "\n",
    "array = [-1, 8, 2, 8, -1, 5, 2, -3, 9, 5]\n",
    "\n",
    "print(\"Array= \", array)\n",
    "find(array)"
   ]
  },
  {
   "cell_type": "markdown",
   "id": "d1f52a9f",
   "metadata": {},
   "source": [
    "# Find the Kth largest and Kth smallest number in an array"
   ]
  },
  {
   "cell_type": "code",
   "execution_count": 6,
   "id": "1aa73690",
   "metadata": {},
   "outputs": [
    {
     "name": "stdout",
     "output_type": "stream",
     "text": [
      "Kth Largest element 4, kth smallest element 3\n"
     ]
    }
   ],
   "source": [
    "from typing import List\n",
    "\n",
    "class Solution:\n",
    "    def largest_and_smallest(self, arr: List[int], k: int) -> None:\n",
    "        arr.sort()\n",
    "        n = len(arr)\n",
    "\n",
    "        print(f\"Kth Largest element {arr[n - k]}, kth smallest element {arr[k - 1]}\")\n",
    "\n",
    "if __name__ == \"__main__\":\n",
    "    arr = [1, 2, 6, 4, 5, 3]\n",
    "    Solution().largest_and_smallest(arr, 3)\n",
    "\n"
   ]
  },
  {
   "cell_type": "markdown",
   "id": "99284f10",
   "metadata": {},
   "source": [
    "# Move all the negative elements to one side of the array"
   ]
  },
  {
   "cell_type": "code",
   "execution_count": 7,
   "id": "0de1e993",
   "metadata": {},
   "outputs": [
    {
     "name": "stdout",
     "output_type": "stream",
     "text": [
      "Array after moving all the element to Left :  [-6, -5, -3, -1, 1, 3, 3, 4, 7]\n"
     ]
    }
   ],
   "source": [
    "def find(arr):\n",
    "    arr.sort()\n",
    "    print(\"Array after moving all the element to Left : \", arr)\n",
    "    \n",
    "array = [1, 3, -1, 4, -3, -5, -6, 3, 7]\n",
    "find(array)"
   ]
  },
  {
   "cell_type": "markdown",
   "id": "dc1a2d0c",
   "metadata": {},
   "source": [
    "# Reverse a string using a stack data structure"
   ]
  },
  {
   "cell_type": "code",
   "execution_count": 8,
   "id": "685f571d",
   "metadata": {},
   "outputs": [
    {
     "name": "stdout",
     "output_type": "stream",
     "text": [
      "Reversed string is : adoydE\n"
     ]
    }
   ],
   "source": [
    "def createstack():\n",
    "    stack = []\n",
    "    return stack\n",
    "\n",
    "def size(stack):\n",
    "    return len(stack)\n",
    "\n",
    "def isEmpty(stack):\n",
    "    if size(stack) == 0:\n",
    "        return True\n",
    "    \n",
    "def push(stack, item):\n",
    "    stack.append(item)\n",
    "\n",
    "def pop(stack):\n",
    "    if isEmpty(stack):\n",
    "        return\n",
    "    return stack.pop()\n",
    "\n",
    "def reverse(string):\n",
    "    n = len(string)\n",
    "    # create a empty stack\n",
    "    stack = createstack()\n",
    "    for i in range(0, n, 1):\n",
    "        push(stack, string[i])\n",
    "    \n",
    "    # make the string empty since all\n",
    "    string = \"\"\n",
    "\n",
    "    for i in range(0, n, 1):\n",
    "        string += pop(stack)\n",
    "    return string\n",
    "\n",
    "string = \"Edyoda\"\n",
    "string = reverse(string)\n",
    "print(\"Reversed string is : \" + string)"
   ]
  },
  {
   "cell_type": "markdown",
   "id": "bfbc1c59",
   "metadata": {},
   "source": [
    "# Evaluate a postfix expression using stack"
   ]
  },
  {
   "cell_type": "code",
   "execution_count": 9,
   "id": "ff42cafa",
   "metadata": {},
   "outputs": [
    {
     "name": "stdout",
     "output_type": "stream",
     "text": [
      "Postfix evaluation: -4\n"
     ]
    }
   ],
   "source": [
    "class Evalute:\n",
    "    def __init__(self, capacity):\n",
    "        self.top = -1\n",
    "        self.capacity = capacity\n",
    "        self.array = []\n",
    "\n",
    "    def isEmpty(self):\n",
    "        return True if self.top == -1 else False\n",
    "\n",
    "    def peek(self):\n",
    "        return self.array[-1]\n",
    "\n",
    "    def pop(self):\n",
    "        if not self.isEmpty():\n",
    "            self.top -= 1\n",
    "            return self.array.pop()\n",
    "        else:\n",
    "            return \"$\"\n",
    "    \n",
    "    def push(self, op):\n",
    "        self.top += 1\n",
    "        self.array.append(op)\n",
    "\n",
    "    def evaluatePostfix(self, exp):\n",
    "        for i in exp:\n",
    "            if i.isdigit():\n",
    "                self.push(i)\n",
    "            else:\n",
    "                val1 = self.pop()\n",
    "                val2 = self.pop()\n",
    "                self.push(str(eval(val2 + i + val1)))\n",
    "        return int(self.pop())\n",
    "\n",
    "\n",
    "if __name__ == \"__main__\":\n",
    "    exp = \"231*+9-\"\n",
    "    obj = Evalute(len(exp))\n",
    "    print(\"Postfix evaluation: %d\" % (obj.evaluatePostfix(exp)))"
   ]
  },
  {
   "cell_type": "markdown",
   "id": "fac2654a",
   "metadata": {},
   "source": [
    "# Implement a queue using the stack data structure"
   ]
  },
  {
   "cell_type": "code",
   "execution_count": 10,
   "id": "38035ca7",
   "metadata": {},
   "outputs": [
    {
     "name": "stdout",
     "output_type": "stream",
     "text": [
      "1\n",
      "2\n",
      "3\n"
     ]
    }
   ],
   "source": [
    "class Queue:\n",
    "    def __init__(self):\n",
    "        self.s1 = []\n",
    "        self.s2 = []\n",
    "\n",
    "    def enQueue(self, x):\n",
    "        while len(self.s1) != 0:\n",
    "            self.s2.append(self.s1[-1])\n",
    "            self.s1.pop()\n",
    "\n",
    "        self.s1.append(x)\n",
    "\n",
    "        while len(self.s2) != 0:\n",
    "            self.s1.append(self.s2[-1])\n",
    "            self.s2.pop()\n",
    "\n",
    "    \n",
    "    def deQueue(self):\n",
    "        if len(self.s1) == 0:\n",
    "            print(\"Empty\")\n",
    "\n",
    "        x = self.s1[-1]\n",
    "        self.s1.pop()\n",
    "        return x\n",
    "    \n",
    "if __name__ == \"__main__\":\n",
    "    q = Queue()\n",
    "    q.enQueue(1) \n",
    "    q.enQueue(2) \n",
    "    q.enQueue(3) \n",
    "\n",
    "    print(q.deQueue())\n",
    "    print(q.deQueue())\n",
    "    print(q.deQueue())\n",
    "\n",
    "\n"
   ]
  },
  {
   "cell_type": "code",
   "execution_count": null,
   "id": "39301562",
   "metadata": {},
   "outputs": [],
   "source": []
  }
 ],
 "metadata": {
  "kernelspec": {
   "display_name": "Python 3 (ipykernel)",
   "language": "python",
   "name": "python3"
  },
  "language_info": {
   "codemirror_mode": {
    "name": "ipython",
    "version": 3
   },
   "file_extension": ".py",
   "mimetype": "text/x-python",
   "name": "python",
   "nbconvert_exporter": "python",
   "pygments_lexer": "ipython3",
   "version": "3.11.1"
  }
 },
 "nbformat": 4,
 "nbformat_minor": 5
}
