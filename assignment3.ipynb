{
 "cells": [
  {
   "cell_type": "markdown",
   "id": "ab1a5d98",
   "metadata": {},
   "source": [
    "# 1) implement Binary Tree"
   ]
  },
  {
   "cell_type": "code",
   "execution_count": 1,
   "id": "6d47ae76",
   "metadata": {},
   "outputs": [
    {
     "name": "stdout",
     "output_type": "stream",
     "text": [
      "0 \n",
      "2 \n",
      "3 \n",
      "4 \n",
      "8 \n",
      "3\n",
      "None\n"
     ]
    }
   ],
   "source": [
    "# implement the binary tree\n",
    "class Node:\n",
    "    def __init__(self, val):\n",
    "        self.l = None\n",
    "        self.r = None\n",
    "        self.v = val\n",
    "\n",
    "class Tree:\n",
    "    def __init__(self):\n",
    "        self.root = None\n",
    "\n",
    "    def getRoot(self):\n",
    "        return self.root\n",
    "\n",
    "    def add(self, val):\n",
    "        if self.root is None:\n",
    "            self.root = Node(val)\n",
    "        else:\n",
    "            self._add(val, self.root)\n",
    "\n",
    "    def _add(self, val, node):\n",
    "        if val < node.v:\n",
    "            if node.l is not None:\n",
    "                self._add(val, node.l)\n",
    "            else:\n",
    "                node.l = Node(val)\n",
    "        else:\n",
    "            if node.r is not None:\n",
    "                self._add(val, node.r)\n",
    "            else:\n",
    "                node.r = Node(val)\n",
    "\n",
    "    def find(self, val):\n",
    "        if self.root is not None:\n",
    "            return self._find(val, self.root)\n",
    "        else:\n",
    "            return None\n",
    "\n",
    "    def _find(self, val, node):\n",
    "        if val == node.v:\n",
    "            return node\n",
    "        elif (val < node.v and node.l is not None):\n",
    "            return self._find(val, node.l)\n",
    "        elif (val > node.v and node.r is not None):\n",
    "            return self._find(val, node.r)\n",
    "\n",
    "    def deleteTree(self):\n",
    "        # garbage collector will do this for us. \n",
    "        self.root = None\n",
    "\n",
    "    def printTree(self):\n",
    "        if self.root is not None:\n",
    "            self._printTree(self.root)\n",
    "\n",
    "    def _printTree(self, node):\n",
    "        if node is not None:\n",
    "            self._printTree(node.l)\n",
    "            print(str(node.v) + ' ')\n",
    "            self._printTree(node.r)\n",
    "\n",
    "tree = Tree()\n",
    "tree.add(3)\n",
    "tree.add(4)\n",
    "tree.add(0)\n",
    "tree.add(8)\n",
    "tree.add(2)\n",
    "tree.printTree()\n",
    "print(tree.find(3).v)\n",
    "print(tree.find(10))\n",
    "tree.deleteTree()\n",
    "tree.printTree()\n",
    "\n"
   ]
  },
  {
   "cell_type": "markdown",
   "id": "78719f50",
   "metadata": {},
   "source": [
    "# 2) Find height of a given tree"
   ]
  },
  {
   "cell_type": "code",
   "execution_count": 1,
   "id": "66119203",
   "metadata": {},
   "outputs": [
    {
     "name": "stdout",
     "output_type": "stream",
     "text": [
      "Height of tree is 3\n"
     ]
    }
   ],
   "source": [
    "class Node:\n",
    "    def __init__(self, data):\n",
    "        self.data = data\n",
    "        self.left = None\n",
    "        self.right = None\n",
    "\n",
    "def maxDepth(node):\n",
    "    if node is None:\n",
    "        return 0\n",
    "    else:\n",
    "        lDepth = maxDepth(node.left)\n",
    "        rDepth = maxDepth(node.right)\n",
    "        if (lDepth > rDepth):\n",
    "            return lDepth+1\n",
    "        else:\n",
    "            return rDepth+1\n",
    "        \n",
    "root = Node(1)\n",
    "root.left = Node(2)\n",
    "root.right = Node(3)\n",
    "root.left.left = Node(4)\n",
    "root.left.right = Node(5)\n",
    " \n",
    "print(\"Height of tree is %d\" % (maxDepth(root)))"
   ]
  },
  {
   "cell_type": "markdown",
   "id": "88df890a",
   "metadata": {},
   "source": [
    "# 3) Perform Pre-order, Post-order, In-order traversal "
   ]
  },
  {
   "cell_type": "markdown",
   "id": "e49441a3",
   "metadata": {},
   "source": [
    "# Inorder traversal "
   ]
  },
  {
   "cell_type": "code",
   "execution_count": 2,
   "id": "968b74ca",
   "metadata": {},
   "outputs": [
    {
     "name": "stdout",
     "output_type": "stream",
     "text": [
      "\n",
      "Inorder traversal of binary tree is\n",
      "4\n",
      "2\n",
      "5\n",
      "1\n",
      "3\n"
     ]
    }
   ],
   "source": [
    "class Node:\n",
    "    def __init__(self, key):\n",
    "        self.left = None\n",
    "        self.right = None\n",
    "        self.val = key\n",
    "\n",
    "def printInorder(root):\n",
    "    if root:\n",
    "        printInorder(root.left)\n",
    "        print(root.val)\n",
    "        printInorder(root.right)\n",
    " \n",
    "if __name__ == \"__main__\":\n",
    "    root = Node(1)\n",
    "    root.left = Node(2)\n",
    "    root.right = Node(3)\n",
    "    root.left.left = Node(4)\n",
    "    root.left.right = Node(5)\n",
    "\n",
    "    print (\"\\nInorder traversal of binary tree is\")\n",
    "    printInorder(root)"
   ]
  },
  {
   "cell_type": "markdown",
   "id": "435c9fae",
   "metadata": {},
   "source": [
    "# Pre-order traversal"
   ]
  },
  {
   "cell_type": "code",
   "execution_count": 3,
   "id": "3e21474c",
   "metadata": {},
   "outputs": [
    {
     "name": "stdout",
     "output_type": "stream",
     "text": [
      "Preorder traversal of binary tree is\n",
      "1\n",
      "2\n",
      "4\n",
      "5\n",
      "3\n"
     ]
    }
   ],
   "source": [
    "class Node:\n",
    "    def __init__(self, key):\n",
    "        self.left = None\n",
    "        self.right = None\n",
    "        self.val = key\n",
    "\n",
    "def printPreorder(root):\n",
    "\n",
    "    if root:\n",
    "        print(root.val)\n",
    "        printPreorder(root.left)\n",
    "        printPreorder(root.right)\n",
    "\n",
    "if __name__ == \"__main__\":\n",
    "    root = Node(1)\n",
    "    root.left = Node(2)\n",
    "    root.right = Node(3)\n",
    "    root.left.left = Node(4)\n",
    "    root.left.right = Node(5)\n",
    "\n",
    "print (\"Preorder traversal of binary tree is\")\n",
    "printPreorder(root)\n"
   ]
  },
  {
   "cell_type": "markdown",
   "id": "154194d2",
   "metadata": {},
   "source": [
    "# Post order traversal "
   ]
  },
  {
   "cell_type": "code",
   "execution_count": 4,
   "id": "da6601e5",
   "metadata": {},
   "outputs": [
    {
     "name": "stdout",
     "output_type": "stream",
     "text": [
      "\n",
      "Postorder traversal of binary tree is\n",
      "4\n",
      "5\n",
      "2\n",
      "3\n",
      "1\n"
     ]
    }
   ],
   "source": [
    "class Node:\n",
    "    def __init__(self, key):\n",
    "        self.left = None\n",
    "        self.right = None\n",
    "        self.val = key\n",
    "\n",
    "def printPostorder(root):\n",
    "    if root:\n",
    "        printPostorder(root.left)\n",
    "        printPostorder(root.right)\n",
    "        print(root.val)\n",
    "\n",
    "if __name__ == \"__main__\":\n",
    "  root = Node(1)\n",
    "  root.left = Node(2)\n",
    "  root.right = Node(3)\n",
    "  root.left.left = Node(4)\n",
    "  root.left.right = Node(5)\n",
    "\n",
    "  print (\"\\nPostorder traversal of binary tree is\")\n",
    "  printPostorder(root)"
   ]
  },
  {
   "cell_type": "markdown",
   "id": "7ac3a712",
   "metadata": {},
   "source": [
    "# 4) Function to print all the leaves in a given binary tree"
   ]
  },
  {
   "cell_type": "code",
   "execution_count": 1,
   "id": "cc656843",
   "metadata": {},
   "outputs": [
    {
     "name": "stdout",
     "output_type": "stream",
     "text": [
      "9 6 5 10 "
     ]
    }
   ],
   "source": [
    "class newNode:\n",
    "    def __init__(self, data):\n",
    "        self.data = data\n",
    "        self.left = None\n",
    "        self.right = None\n",
    "\n",
    "def printLeftNode(root):\n",
    "    if root == None:\n",
    "        return\n",
    "    \n",
    "    if (root.left == None and root.right == None):\n",
    "        print(root.data, end=\" \")\n",
    "        return\n",
    "    \n",
    "    if root.right:\n",
    "        printLeftNode(root.right)\n",
    "    \n",
    "    if root.left:\n",
    "        printLeftNode(root.left)\n",
    "\n",
    "root = newNode(1)\n",
    "root.left = newNode(2)\n",
    "root.right = newNode(3)\n",
    "root.left.left = newNode(4)\n",
    "root.left.right = newNode(5)\n",
    "root.right.left = newNode(6)\n",
    "root.right.right = newNode(7)\n",
    "root.left.left.left = newNode(8)\n",
    "root.right.right.left = newNode(9)\n",
    "root.left.left.left.right = newNode(10)\n",
    "\n",
    "printLeftNode(root)"
   ]
  },
  {
   "cell_type": "markdown",
   "id": "a1f87808",
   "metadata": {},
   "source": [
    "# 5) Implement BFS (Breath First Search) and DFS (Depth First Search)"
   ]
  },
  {
   "cell_type": "code",
   "execution_count": 2,
   "id": "f2148f68",
   "metadata": {},
   "outputs": [
    {
     "name": "stdout",
     "output_type": "stream",
     "text": [
      "Following is Breadth First Traversal (starting from vertex 2)\n",
      "2 0 3 1 "
     ]
    }
   ],
   "source": [
    "from collections import defaultdict\n",
    "class Graph:\n",
    "    def __init__(self):\n",
    "        self.graph = defaultdict(list)\n",
    "\n",
    "    def addEdge(self, u, v):\n",
    "        self.graph[u].append(v)\n",
    "\n",
    "    def BFS(self, s):\n",
    "        visited = [False] * (max(self.graph) + 1)\n",
    "        queue = []\n",
    "        queue.append(s)\n",
    "        visited[s] = True\n",
    "\n",
    "        while queue:\n",
    "            s = queue.pop(0)\n",
    "            print(s, end=\" \")\n",
    "\n",
    "            for i in self.graph[s]:\n",
    "                if visited[i] == False:\n",
    "                    queue.append(i)\n",
    "                    visited[i] = True\n",
    "\n",
    "if __name__ == \"__main__\":\n",
    "     g = Graph()\n",
    "     g.addEdge(0, 1)\n",
    "     g.addEdge(0, 2)\n",
    "     g.addEdge(1, 2)\n",
    "     g.addEdge(2, 0)\n",
    "     g.addEdge(2, 3)\n",
    "     g.addEdge(3, 3)\n",
    "\n",
    "     print(\"Following is Breadth First Traversal\"\n",
    "          \" (starting from vertex 2)\")\n",
    "     g.BFS(2)"
   ]
  },
  {
   "cell_type": "markdown",
   "id": "25cbf5a2",
   "metadata": {},
   "source": [
    "# 6) Find sum of all left leaves in a given Binary Tree"
   ]
  },
  {
   "cell_type": "code",
   "execution_count": 3,
   "id": "3cc234f6",
   "metadata": {},
   "outputs": [
    {
     "name": "stdout",
     "output_type": "stream",
     "text": [
      "Sum of left leaves is 78\n"
     ]
    }
   ],
   "source": [
    "class Node:\n",
    "    def __init__(self, key):\n",
    "        self.key = key\n",
    "        self.left = None\n",
    "        self.right = None\n",
    "\n",
    "def isLeaf(node):\n",
    "    if node is None:\n",
    "        return False\n",
    "    if node.left is None and node.right is None:\n",
    "        return True\n",
    "    return False\n",
    "\n",
    "def leftLeavessum(root):\n",
    "    res = 0\n",
    "    if root is not None:\n",
    "        if isLeaf(root.left):\n",
    "            res += root.left.key\n",
    "        else:\n",
    "            res += leftLeavessum(root.left)\n",
    "        res += leftLeavessum(root.right)\n",
    "    return res\n",
    "\n",
    "root = Node(20)\n",
    "root.left = Node(9)\n",
    "root.right = Node(49)\n",
    "root.right.left = Node(23)       \n",
    "root.right.right = Node(52)\n",
    "root.right.right.left = Node(50)\n",
    "root.left.left = Node(5)\n",
    "root.left.right = Node(12)\n",
    "root.left.right.right = Node(12)\n",
    "print (\"Sum of left leaves is\", leftLeavessum(root))"
   ]
  },
  {
   "cell_type": "markdown",
   "id": "fd2975bc",
   "metadata": {},
   "source": [
    "# 7) Find sum of all nodes of the given perfect binary tree"
   ]
  },
  {
   "cell_type": "code",
   "execution_count": 4,
   "id": "ef5211ca",
   "metadata": {},
   "outputs": [
    {
     "name": "stdout",
     "output_type": "stream",
     "text": [
      "30\n"
     ]
    }
   ],
   "source": [
    "def SumNodes(l):\n",
    "    leafNodeCount = pow(2, l - 1)\n",
    "    vec = [[] for i in range(l)]\n",
    "    for i in range(1, leafNodeCount + 1):\n",
    "        vec[l - 1].append(i)\n",
    "    for i in range(l - 2, -1, -1):\n",
    "        k = 0\n",
    "        while (k < len(vec[i + 1]) - 1):\n",
    "            vec[i].append(vec[i + 1][k] +\n",
    "                        vec[i + 1][k + 1])\n",
    "            k += 2\n",
    "    Sum = 0\n",
    "    for i in range(l):\n",
    "        for j in range(len(vec[i])):\n",
    "            Sum += vec[i][j]\n",
    "\n",
    "    return Sum\n",
    "\n",
    "if __name__ == '__main__':\n",
    "    l = 3\n",
    "\n",
    "    print(SumNodes(l))"
   ]
  },
  {
   "cell_type": "markdown",
   "id": "2f4a41b1",
   "metadata": {},
   "source": [
    "# 8) Count subtress that sum up to a given value x in a binary tree"
   ]
  },
  {
   "cell_type": "code",
   "execution_count": 5,
   "id": "18affddf",
   "metadata": {},
   "outputs": [
    {
     "name": "stdout",
     "output_type": "stream",
     "text": [
      "Count = 2\n"
     ]
    }
   ],
   "source": [
    "class getNode:\n",
    "    def __init__(self, data):\n",
    "        self.data = data\n",
    "        self.left = self.right = None\n",
    "\n",
    "def countSubtreesWithSumX(root, count, x):\n",
    "    if (not root):\n",
    "        return 0\n",
    "    ls = countSubtreesWithSumX(root.left,count, x)\n",
    "    rs = countSubtreesWithSumX(root.right,count, x)\n",
    "    Sum = ls + rs + root.data\n",
    "\n",
    "    if (Sum == x):\n",
    "        count[0] += 1\n",
    "    return Sum\n",
    "\n",
    "def countSubtreesWithSumXUtil(root, x):\n",
    "    if (not root):\n",
    "        return 0\n",
    "    count = [0]\n",
    "    ls = countSubtreesWithSumX(root.left,count, x)\n",
    "    rs = countSubtreesWithSumX(root.right,count, x)\n",
    "\n",
    "    if ((ls + rs + root.data) == x):\n",
    "        count[0] += 1\n",
    "    return count[0]\n",
    "\n",
    "if __name__ == '__main__':\n",
    "    \n",
    "    root = getNode(5)\n",
    "    root.left = getNode(-10)\n",
    "    root.right = getNode(3)\n",
    "    root.left.left = getNode(9)\n",
    "    root.left.right = getNode(8)\n",
    "    root.right.left = getNode(-4)\n",
    "    root.right.right = getNode(7)\n",
    "    x = 7\n",
    "\n",
    "    print(\"Count =\",\n",
    "        countSubtreesWithSumXUtil(root, x))\n"
   ]
  },
  {
   "cell_type": "markdown",
   "id": "13474250",
   "metadata": {},
   "source": [
    "# 9) Find maximum level sum in Binary Tree"
   ]
  },
  {
   "cell_type": "code",
   "execution_count": 6,
   "id": "a63c0322",
   "metadata": {},
   "outputs": [
    {
     "name": "stdout",
     "output_type": "stream",
     "text": [
      "Maximum level sum is 17\n"
     ]
    }
   ],
   "source": [
    "from collections import deque\n",
    "class Node:\n",
    "    def __init__(self, key):\n",
    "        self.data = key\n",
    "        self.left = None\n",
    "        self.right = None\n",
    "\n",
    "def maxLevelSum(root):\n",
    "    if (root == None):\n",
    "        return 0\n",
    "    result = root.data\n",
    "    q = deque()\n",
    "    q.append(root)\n",
    "    \n",
    "    while (len(q) > 0):\n",
    "        count = len(q)\n",
    "        sum = 0\n",
    "        while (count > 0):\n",
    "            temp = q.popleft()\n",
    "            sum = sum + temp.data\n",
    "\n",
    "            if (temp.left != None):\n",
    "                q.append(temp.left)\n",
    "            if (temp.right != None):\n",
    "                q.append(temp.right)\n",
    "            count -= 1\n",
    "        result = max(sum, result)\n",
    "    return result\n",
    "\n",
    "if __name__ == '__main__':\n",
    "\n",
    "    root = Node(1)\n",
    "    root.left = Node(2)\n",
    "    root.right = Node(3)\n",
    "    root.left.left = Node(4)\n",
    "    root.left.right = Node(5)\n",
    "    root.right.right = Node(8)\n",
    "    root.right.right.left = Node(6)\n",
    "    root.right.right.right = Node(7)\n",
    "\n",
    "    print(\"Maximum level sum is\", maxLevelSum(root))\n"
   ]
  },
  {
   "cell_type": "markdown",
   "id": "3e1e6b5a",
   "metadata": {},
   "source": [
    "# 10) Print the nodes at odd levels of a tree"
   ]
  },
  {
   "cell_type": "code",
   "execution_count": 7,
   "id": "e8b6671f",
   "metadata": {},
   "outputs": [
    {
     "name": "stdout",
     "output_type": "stream",
     "text": [
      "1 4 5 "
     ]
    }
   ],
   "source": [
    "class newNode:\n",
    "    def __init__(self, data):\n",
    "        self.data = data\n",
    "        self.left = self.right = None\n",
    "\n",
    "def printOddNodes(root, isOdd = True):\n",
    "    if (root == None):\n",
    "        return\n",
    "    if (isOdd):\n",
    "        print(root.data, end = \" \")\n",
    "    printOddNodes(root.left, not isOdd)\n",
    "    printOddNodes(root.right, not isOdd)\n",
    "\n",
    "if __name__ == '__main__':\n",
    "    root = newNode(1)\n",
    "    root.left = newNode(2)\n",
    "    root.right = newNode(3)\n",
    "    root.left.left = newNode(4)\n",
    "    root.left.right = newNode(5)\n",
    "    printOddNodes(root)"
   ]
  },
  {
   "cell_type": "code",
   "execution_count": null,
   "id": "df1db7bd",
   "metadata": {},
   "outputs": [],
   "source": []
  }
 ],
 "metadata": {
  "kernelspec": {
   "display_name": "Python 3 (ipykernel)",
   "language": "python",
   "name": "python3"
  },
  "language_info": {
   "codemirror_mode": {
    "name": "ipython",
    "version": 3
   },
   "file_extension": ".py",
   "mimetype": "text/x-python",
   "name": "python",
   "nbconvert_exporter": "python",
   "pygments_lexer": "ipython3",
   "version": "3.11.1"
  }
 },
 "nbformat": 4,
 "nbformat_minor": 5
}
