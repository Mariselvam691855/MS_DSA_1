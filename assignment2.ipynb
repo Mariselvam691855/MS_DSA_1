{
 "cells": [
  {
   "cell_type": "markdown",
   "id": "e2f7ba79",
   "metadata": {},
   "source": [
    "# Implement Binary Search"
   ]
  },
  {
   "cell_type": "code",
   "execution_count": 1,
   "id": "2ed554a4",
   "metadata": {},
   "outputs": [
    {
     "name": "stdout",
     "output_type": "stream",
     "text": [
      "Element is present at index 3\n"
     ]
    }
   ],
   "source": [
    "def binarySearch(arr, l, r, x):\n",
    "    while l <= r:\n",
    "        mid = 1 + (r - 1) // 2\n",
    "\n",
    "        if arr[mid] == x:\n",
    "            return mid\n",
    "        \n",
    "        elif arr[mid] < x:\n",
    "            l = mid + 1\n",
    "        else:\n",
    "            r = mid - 1\n",
    "\n",
    "    return -1\n",
    "\n",
    "if __name__ == \"__main__\":\n",
    "    arr = [2, 3, 4, 10, 40]\n",
    "    x = 10\n",
    "\n",
    "    res = binarySearch(arr, 0, len(arr), x)\n",
    "    if res != -1:\n",
    "        print(\"Element is present at index\", res)\n",
    "    else:\n",
    "        print(\"Element is not present in array\")"
   ]
  },
  {
   "cell_type": "markdown",
   "id": "a8ed43a5",
   "metadata": {},
   "source": [
    "# Implement Merge Sort"
   ]
  },
  {
   "cell_type": "code",
   "execution_count": 2,
   "id": "5fe22aab",
   "metadata": {},
   "outputs": [
    {
     "name": "stdout",
     "output_type": "stream",
     "text": [
      "Given array is\n",
      "12 11 13 5 6 4 22 30 7 \n",
      "Sorted array is: \n",
      "4 5 6 7 11 12 13 22 30 \n"
     ]
    }
   ],
   "source": [
    "def mergesort(arr):\n",
    "    if len(arr) > 1:\n",
    "        mid = len(arr)//2\n",
    "        l = arr[:mid]\n",
    "        r = arr[mid:]\n",
    "        mergesort(l)\n",
    "        mergesort(r)\n",
    "\n",
    "        i = j = k = 0\n",
    "\n",
    "        while i < len(l) and j < len(r):\n",
    "            if l[i] <= r[j]:\n",
    "                arr[k] = l[i]\n",
    "                i += 1\n",
    "            else:\n",
    "                arr[k] = r[j]\n",
    "                j += 1\n",
    "            k += 1\n",
    "\n",
    "        while i < len(l):\n",
    "            arr[k] = l[i]\n",
    "            i += 1\n",
    "            k += 1\n",
    "        \n",
    "        while j < len(r):\n",
    "            arr[k] = r[j]\n",
    "            j += 1\n",
    "            k += 1\n",
    "\n",
    "def printList(arr):\n",
    "    for i in range(len(arr)):\n",
    "        print(arr[i], end=\" \")\n",
    "    print()\n",
    "\n",
    "\n",
    "if __name__ == \"__main__\":\n",
    "    arr = [12, 11, 13, 5, 6, 4, 22, 30, 7]\n",
    "    print(\"Given array is\", end=\"\\n\")\n",
    "    printList(arr)\n",
    "    mergesort(arr)\n",
    "    print(\"Sorted array is: \", end=\"\\n\")\n",
    "    printList(arr)    \n"
   ]
  },
  {
   "cell_type": "markdown",
   "id": "f23fdea2",
   "metadata": {},
   "source": [
    "# Implement Quick Sort"
   ]
  },
  {
   "cell_type": "code",
   "execution_count": 3,
   "id": "93370e6b",
   "metadata": {},
   "outputs": [
    {
     "name": "stdout",
     "output_type": "stream",
     "text": [
      "sorted array\n",
      "1 5 7 8 9 10 "
     ]
    }
   ],
   "source": [
    "def partition(array, low, high):\n",
    "    pivot = array[high]\n",
    "    i = low - 1\n",
    "    for j in range(low, high):\n",
    "        if array[j] <= pivot:\n",
    "            i += 1\n",
    "            (array[i], array[j]) = (array[j], array[i])\n",
    "    (array[i + 1], array[high]) = (array[high], array[i + 1])\n",
    "    return i + 1\n",
    "\n",
    "def quicksort(array, low, high):\n",
    "    if low < high:\n",
    "        pi = partition(array, low, high)\n",
    "        quicksort(array, low, pi - 1)\n",
    "        quicksort(array, pi + 1, high)\n",
    "\n",
    "if __name__ == \"__main__\":\n",
    "    array = [10, 7, 8, 9, 1, 5]\n",
    "    n = len(array)\n",
    "\n",
    "    quicksort(array, 0, n - 1)\n",
    "    print(\"sorted array\")\n",
    "    for x in array:\n",
    "        print(x, end=\" \")"
   ]
  },
  {
   "cell_type": "markdown",
   "id": "e958febe",
   "metadata": {},
   "source": [
    "# Implement Insertion Sort"
   ]
  },
  {
   "cell_type": "code",
   "execution_count": 4,
   "id": "2b282893",
   "metadata": {},
   "outputs": [
    {
     "name": "stdout",
     "output_type": "stream",
     "text": [
      "Sorted Array in Ascending Order:\n",
      "[1, 3, 4, 5, 9]\n"
     ]
    }
   ],
   "source": [
    "def insertionSort(array):\n",
    "    for step in range(1, len(array)):\n",
    "        key = array[step]\n",
    "        j = step - 1\n",
    "       \n",
    "        while j >= 0 and key < array[j]:\n",
    "            array[j + 1] = array[j]\n",
    "            j = j - 1\n",
    "        array[j + 1] = key\n",
    "\n",
    "data = [9, 5, 1, 4, 3]\n",
    "insertionSort(data)\n",
    "print('Sorted Array in Ascending Order:')\n",
    "print(data)"
   ]
  },
  {
   "cell_type": "markdown",
   "id": "6e9884ae",
   "metadata": {},
   "source": [
    "# Write a program to sort list of strings (similar to that of dictionary)"
   ]
  },
  {
   "cell_type": "code",
   "execution_count": 5,
   "id": "93b95bbe",
   "metadata": {},
   "outputs": [
    {
     "name": "stdout",
     "output_type": "stream",
     "text": [
      "The original list is : ['gfg', 'is', 'best']\n",
      "The original dictionary is : {'gfg': 56, 'is': 12, 'best': 76}\n",
      "The list after sorting : ['is', 'gfg', 'best']\n"
     ]
    }
   ],
   "source": [
    "test_list = ['gfg', 'is', 'best']\n",
    "test_dict = {'gfg' : 56, 'is' : 12, 'best' : 76}\n",
    "\n",
    "print(\"The original list is : \" + str(test_list))\n",
    "print(\"The original dictionary is : \" + str(test_dict))\n",
    "\n",
    "res = sorted(test_list, key = lambda ele: test_dict[ele])\n",
    "print(\"The list after sorting : \" + str(res))\n"
   ]
  },
  {
   "cell_type": "markdown",
   "id": "891cb638",
   "metadata": {},
   "source": []
  }
 ],
 "metadata": {
  "kernelspec": {
   "display_name": "Python 3 (ipykernel)",
   "language": "python",
   "name": "python3"
  },
  "language_info": {
   "codemirror_mode": {
    "name": "ipython",
    "version": 3
   },
   "file_extension": ".py",
   "mimetype": "text/x-python",
   "name": "python",
   "nbconvert_exporter": "python",
   "pygments_lexer": "ipython3",
   "version": "3.11.1"
  }
 },
 "nbformat": 4,
 "nbformat_minor": 5
}
