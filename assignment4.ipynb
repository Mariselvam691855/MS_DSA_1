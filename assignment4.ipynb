{
 "cells": [
  {
   "cell_type": "markdown",
   "id": "ed2b4eeb",
   "metadata": {},
   "source": [
    "# 1) Breadth First Traversal for a Graph"
   ]
  },
  {
   "cell_type": "code",
   "execution_count": 1,
   "id": "c3f62277",
   "metadata": {},
   "outputs": [
    {
     "name": "stdout",
     "output_type": "stream",
     "text": [
      "Following is Breadth First Traversal (starting from vertex 2)\n",
      "2 0 3 1 "
     ]
    }
   ],
   "source": [
    "from collections import defaultdict\n",
    "class Graph:\n",
    "    def __init__(self):\n",
    "        self.graph = defaultdict(list)\n",
    "\n",
    "    def addEdge(self, u, v):\n",
    "        self.graph[u].append(v)\n",
    "\n",
    "    def BFS(self, s):\n",
    "        visited = [False] * (max(self.graph) + 1)\n",
    "        queue = []\n",
    "        queue.append(s)\n",
    "        visited[s] = True\n",
    "\n",
    "        while queue:\n",
    "            s = queue.pop(0)\n",
    "            print(s, end=\" \")\n",
    "            for i in self.graph[s]:\n",
    "                if visited[i] == False:\n",
    "                    queue.append(i)\n",
    "                    visited[i] = True\n",
    "\n",
    "if __name__ == '__main__':\n",
    "\n",
    "    g = Graph()\n",
    "    g.addEdge(0, 1)\n",
    "    g.addEdge(0, 2)\n",
    "    g.addEdge(1, 2)\n",
    "    g.addEdge(2, 0)\n",
    "    g.addEdge(2, 3)\n",
    "    g.addEdge(3, 3)\n",
    "\n",
    "    print(\"Following is Breadth First Traversal\"\n",
    "        \" (starting from vertex 2)\")\n",
    "    g.BFS(2)\n"
   ]
  },
  {
   "cell_type": "markdown",
   "id": "79d7c346",
   "metadata": {},
   "source": [
    "# 2) Depth First Traversal for a Graph"
   ]
  },
  {
   "cell_type": "code",
   "execution_count": 2,
   "id": "938f9e98",
   "metadata": {},
   "outputs": [
    {
     "name": "stdout",
     "output_type": "stream",
     "text": [
      "Following is DFS from (starting from vertex 2)\n",
      "2 0 1 3 "
     ]
    }
   ],
   "source": [
    "from collections import defaultdict\n",
    "class Graph:\n",
    "\n",
    "    def __init__(self):\n",
    "        self.graph = defaultdict(list)\n",
    "\n",
    "    def addEdge(self, u, v):\n",
    "        self.graph[u].append(v)\n",
    "\n",
    "    def DFSUtil(self, v, visited):\n",
    "        visited.add(v)\n",
    "        print(v, end=' ')\n",
    "        for neighbour in self.graph[v]:\n",
    "            if neighbour not in visited:\n",
    "                self.DFSUtil(neighbour, visited)\n",
    "\n",
    "    def DFS(self, v):\n",
    "        visited = set()\n",
    "        self.DFSUtil(v, visited)\n",
    "\n",
    "\n",
    "if __name__ == \"__main__\":\n",
    "    g = Graph()\n",
    "    g.addEdge(0, 1)\n",
    "    g.addEdge(0, 2)\n",
    "    g.addEdge(1, 2)\n",
    "    g.addEdge(2, 0)\n",
    "    g.addEdge(2, 3)\n",
    "    g.addEdge(3, 3)\n",
    "\n",
    "    print(\"Following is DFS from (starting from vertex 2)\")\n",
    "    g.DFS(2)"
   ]
  },
  {
   "cell_type": "markdown",
   "id": "43f36de5",
   "metadata": {},
   "source": [
    "# 3) Count the number of nodes at given level in a tree using BFS"
   ]
  },
  {
   "cell_type": "code",
   "execution_count": 3,
   "id": "87bebb3d",
   "metadata": {},
   "outputs": [
    {
     "name": "stdout",
     "output_type": "stream",
     "text": [
      "3\n"
     ]
    }
   ],
   "source": [
    "from collections import deque\n",
    "\n",
    "adj = [[] for i in range(1001)]\n",
    "\n",
    "def addEdge(v, w):\n",
    "    adj[v].append(w)\n",
    "    adj[w].append(v)\n",
    "\n",
    "def BFS(s, l):\n",
    "    V = 100\n",
    "    visited = [False] * V\n",
    "    level = [0] * V\n",
    "\n",
    "    for i in range(V):\n",
    "        visited[i] = False\n",
    "        level[i] = 0\n",
    "    queue = deque()\n",
    "    visited[s] = True\n",
    "    queue.append(s)\n",
    "    level[s] = 0\n",
    "\n",
    "    while (len(queue) > 0):\n",
    "        s = queue.popleft()\n",
    "        for i in adj[s]:\n",
    "            if (not visited[i]):\n",
    "                level[i] = level[s] + 1\n",
    "                visited[i] = True\n",
    "                queue.append(i)\n",
    "\n",
    "    count = 0\n",
    "    for i in range(V):\n",
    "        if (level[i] == l):\n",
    "            count += 1\n",
    "    return count\n",
    "if __name__ == '__main__':\n",
    "    addEdge(0, 1)\n",
    "    addEdge(0, 2)\n",
    "    addEdge(1, 3)\n",
    "    addEdge(2, 4)\n",
    "    addEdge(2, 5)\n",
    "\n",
    "    level = 2\n",
    "\n",
    "    print(BFS(0, level))\n"
   ]
  },
  {
   "cell_type": "markdown",
   "id": "57818e61",
   "metadata": {},
   "source": [
    "# 4) Count number of trees in a forest"
   ]
  },
  {
   "cell_type": "code",
   "execution_count": 4,
   "id": "b8d73774",
   "metadata": {},
   "outputs": [
    {
     "name": "stdout",
     "output_type": "stream",
     "text": [
      "2\n"
     ]
    }
   ],
   "source": [
    "def addEdge(adj, u, v):\n",
    "    adj[u].append(v)\n",
    "    adj[v].append(u)\n",
    "\n",
    "def DFSUtil(u, adj, visited):\n",
    "    visited[u] = True\n",
    "    for i in range(len(adj[u])):\n",
    "        if (visited[adj[u][i]] == False):\n",
    "            DFSUtil(adj[u][i], adj, visited)\n",
    "\n",
    "def countTrees(adj, V):\n",
    "    visited = [False] * V\n",
    "    res = 0\n",
    "    for u in range(V):\n",
    "        if (visited[u] == False):\n",
    "            DFSUtil(u, adj, visited)\n",
    "            res += 1\n",
    "    return res\n",
    "\n",
    "if __name__ == '__main__':\n",
    "\n",
    "    V = 5\n",
    "    adj = [[] for i in range(V)]\n",
    "    addEdge(adj, 0, 1)\n",
    "    addEdge(adj, 0, 2)\n",
    "    addEdge(adj, 3, 4)\n",
    "    print(countTrees(adj, V))"
   ]
  },
  {
   "cell_type": "markdown",
   "id": "c30d09a5",
   "metadata": {},
   "source": [
    "# 5) Detect Cycle in a Directed Graph"
   ]
  },
  {
   "cell_type": "code",
   "execution_count": 5,
   "id": "70bbd10e",
   "metadata": {},
   "outputs": [
    {
     "name": "stdout",
     "output_type": "stream",
     "text": [
      "Graph contains cycle\n"
     ]
    }
   ],
   "source": [
    "from collections import defaultdict\n",
    "\n",
    "class Graph():\n",
    "    def __init__(self, vertices):\n",
    "        self.graph = defaultdict(list)\n",
    "        self.V = vertices\n",
    "\n",
    "    def addEdge(self, u, v):\n",
    "        self.graph[u].append(v)\n",
    "\n",
    "    def isCyclicUtil(self, v, visited, recStack):\n",
    "        visited[v] = True\n",
    "        recStack[v] = True\n",
    "        for neighbour in self.graph[v]:\n",
    "            if visited[neighbour] == False:\n",
    "                if self.isCyclicUtil(neighbour, visited, recStack) == True:\n",
    "                    return True\n",
    "            elif recStack[neighbour] == True:\n",
    "                return True\n",
    "        recStack[v] = False\n",
    "        return False\n",
    "\n",
    "    def isCyclic(self):\n",
    "        visited = [False] * (self.V + 1)\n",
    "        recStack = [False] * (self.V + 1)\n",
    "        for node in range(self.V):\n",
    "            if visited[node] == False:\n",
    "                if self.isCyclicUtil(node, visited, recStack) == True:\n",
    "                    return True\n",
    "        return False\n",
    "\n",
    "if __name__ == '__main__':\n",
    "    g = Graph(4)\n",
    "    g.addEdge(0, 1)\n",
    "    g.addEdge(0, 2)\n",
    "    g.addEdge(1, 2)\n",
    "    g.addEdge(2, 0)\n",
    "    g.addEdge(2, 3)\n",
    "    g.addEdge(3, 3)\n",
    "\n",
    "    if g.isCyclic() == 1:\n",
    "        print(\"Graph contains cycle\")\n",
    "    else:\n",
    "        print(\"Graph doesn't contain cycle\")\n"
   ]
  },
  {
   "cell_type": "code",
   "execution_count": 6,
   "id": "5d8db163",
   "metadata": {},
   "outputs": [
    {
     "name": "stdout",
     "output_type": "stream",
     "text": [
      "[[2, 4, 1, 3], [3, 1, 4, 2]]\n"
     ]
    }
   ],
   "source": [
    "result = []\n",
    "\n",
    "def isSafe(board, row, col):\n",
    "    for i in range(col):\n",
    "        if (board[row][i]):\n",
    "            return False\n",
    "    i = row\n",
    "    j = col\n",
    "    while i >= 0 and j >= 0:\n",
    "        if(board[i][j]):\n",
    "            return False\n",
    "        i -= 1\n",
    "        j -= 1\n",
    "    i = row\n",
    "    j = col\n",
    "    while j >= 0 and i < 4:\n",
    "        if(board[i][j]):\n",
    "            return False\n",
    "        i = i + 1\n",
    "        j = j - 1\n",
    "\n",
    "    return True\n",
    "\n",
    "def solveNQUtil(board, col):\n",
    "    if (col == 4):\n",
    "        v = []\n",
    "        for i in board:\n",
    "          for j in range(len(i)):\n",
    "            if i[j] == 1:\n",
    "              v.append(j+1)\n",
    "        result.append(v)\n",
    "        return True\n",
    "\n",
    "    res = False\n",
    "    for i in range(4):\n",
    "        if (isSafe(board, i, col)):\n",
    "            board[i][col] = 1\n",
    "            res = solveNQUtil(board, col + 1) or res\n",
    "            board[i][col] = 0 \n",
    "    return res\n",
    "\n",
    "\n",
    "def solveNQ(n):\n",
    "    result.clear()\n",
    "    board = [[0 for j in range(n)]\n",
    "            for i in range(n)]\n",
    "    solveNQUtil(board, 0)\n",
    "    result.sort()\n",
    "    return result\n",
    "\n",
    "n = 4\n",
    "res = solveNQ(n)\n",
    "print(res)\n"
   ]
  },
  {
   "cell_type": "code",
   "execution_count": null,
   "id": "0c7bf138",
   "metadata": {},
   "outputs": [],
   "source": []
  }
 ],
 "metadata": {
  "kernelspec": {
   "display_name": "Python 3 (ipykernel)",
   "language": "python",
   "name": "python3"
  },
  "language_info": {
   "codemirror_mode": {
    "name": "ipython",
    "version": 3
   },
   "file_extension": ".py",
   "mimetype": "text/x-python",
   "name": "python",
   "nbconvert_exporter": "python",
   "pygments_lexer": "ipython3",
   "version": "3.11.1"
  }
 },
 "nbformat": 4,
 "nbformat_minor": 5
}
